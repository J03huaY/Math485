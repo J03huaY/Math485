{
 "cells": [
  {
   "cell_type": "code",
   "execution_count": 1,
   "id": "3e657028-f90a-42ff-b7cc-656f7d216926",
   "metadata": {},
   "outputs": [],
   "source": [
    "import pandas as pd\n",
    "import numpy as np\n",
    "import seaborn as sns \n",
    "from matplotlib import pyplot as plt\n",
    "from sklearn import metrics\n",
    "from sklearn.metrics import confusion_matrix\n",
    "from sklearn.metrics import ConfusionMatrixDisplay\n",
    "from sklearn.model_selection import train_test_split\n",
    "from sklearn.naive_bayes import MultinomialNB\n",
    "from sklearn.neural_network import MLPClassifier\n",
    "\n",
    "from sklearn.ensemble import RandomForestClassifier\n",
    "from sklearn.feature_extraction.text import CountVectorizer\n",
    "from sklearn.feature_extraction.text import TfidfVectorizer\n",
    "\n",
    "import openpyxl"
   ]
  },
  {
   "cell_type": "code",
   "execution_count": 2,
   "id": "217bf209-c60a-4836-acc9-3a9f178dfc34",
   "metadata": {},
   "outputs": [],
   "source": [
    "text_file_name = \"osdg-community-data-v2024-04-01.csv\"\n",
    "text_df = pd.read_csv(text_file_name,sep = \"\\t\",  quotechar='\"')"
   ]
  },
  {
   "cell_type": "code",
   "execution_count": 3,
   "id": "b10943ba-b5fb-4595-b764-d83254e4dcf2",
   "metadata": {},
   "outputs": [],
   "source": [
    "text_df.drop(text_df.columns.values[0],axis = 1, inplace=True)\n",
    "text_df = text_df.query(\"agreement > 0.5 and (labels_positive - labels_negative) > 2\").reset_index(drop=True)"
   ]
  },
  {
   "cell_type": "code",
   "execution_count": 4,
   "id": "d5283ed2-25cf-4dda-8346-b41fd7793f10",
   "metadata": {},
   "outputs": [],
   "source": [
    "corpus = text_df.text"
   ]
  },
  {
   "cell_type": "code",
   "execution_count": 5,
   "id": "dbe71745-1880-4a0a-97c9-ce5821542bb2",
   "metadata": {},
   "outputs": [
    {
     "name": "stdout",
     "output_type": "stream",
     "text": [
      "0        From a gender perspective, Paulgaard points ou...\n",
      "1        The average figure also masks large difference...\n",
      "2        These findings are consistent with previous wo...\n",
      "3        The Israel Oceanographic and Limnological Rese...\n",
      "4        Previous chapters have discussed ways to make ...\n",
      "                               ...                        \n",
      "26521    In Mauritius, housing development for the econ...\n",
      "26522    In consequence, the number of urban dwellers p...\n",
      "26523    It also features individual accountability, wh...\n",
      "26524    Groundwater quality can also be affected by co...\n",
      "26525    The three diseases that resulted in the greate...\n",
      "Name: text, Length: 26526, dtype: object\n"
     ]
    }
   ],
   "source": [
    "print(corpus)"
   ]
  },
  {
   "cell_type": "markdown",
   "id": "62cc9c56-e399-4a00-a98a-72db1d25e693",
   "metadata": {},
   "source": [
    "Function definiton:"
   ]
  },
  {
   "cell_type": "code",
   "execution_count": 6,
   "id": "f6cc19ac-529c-468c-88f8-b7711c3ad394",
   "metadata": {},
   "outputs": [],
   "source": [
    "def sdg_classify (corpus, classifier_algorithm):\n",
    "    X = corpus.values  # text\n",
    "    y = corpus.index  # labels\n",
    "\n",
    "    \n",
    "    vectorizer = TfidfVectorizer()\n",
    "    X_transformed = vectorizer.fit_transform(X)\n",
    "    \n",
    "    # Step 4: Split data\n",
    "    X_train, X_test, y_train, y_test = train_test_split(X_transformed, y, test_size=0.3, random_state=42)\n",
    "\n",
    "    #define the classifier\n",
    "    classifier = classifier_algorithm(random_state=42)\n",
    "    \n",
    "    # Fit the classifier\n",
    "    classifier.fit(X_train, y_train)\n",
    "    \n",
    "    # Make predictions\n",
    "    y_pred = classifier.predict(X_test)\n",
    "    \n",
    "    # Calculate accuracy\n",
    "    accuracy = accuracy_score(y_test, y_pred)\n",
    "    precision = precision_score(y_test, y_pred, average='weighted', zero_division=1)  # Handles multiclass/multilabel\n",
    "    recall = recall_score(y_test, y_pred, average='weighted', zero_division=1)\n",
    "    f1 = f1_score(y_test, y_pred, average='weighted', zero_division=1)\n",
    "\n",
    "    # Classification report (optional)\n",
    "    report = classification_report(y_test, y_pred)\n",
    "\n",
    "    # Return metrics and optional report\n",
    "    metrics = {\n",
    "        'accuracy': accuracy,\n",
    "        'precision': precision,\n",
    "        'recall': recall,\n",
    "        'f1_score': f1,\n",
    "        'classification_report': report\n",
    "    }\n",
    "    return metrics\n",
    "    \n",
    "    \n",
    "    "
   ]
  },
  {
   "cell_type": "code",
   "execution_count": null,
   "id": "c499e350-dc35-4591-bd29-458a5b018960",
   "metadata": {},
   "outputs": [],
   "source": [
    "sdg_classify(corpus, RandomForestClassifier)"
   ]
  },
  {
   "cell_type": "code",
   "execution_count": null,
   "id": "06d90f48-b849-46c5-b206-21f64a4c8637",
   "metadata": {},
   "outputs": [],
   "source": []
  }
 ],
 "metadata": {
  "kernelspec": {
   "display_name": "Python 3 (ipykernel)",
   "language": "python",
   "name": "python3"
  },
  "language_info": {
   "codemirror_mode": {
    "name": "ipython",
    "version": 3
   },
   "file_extension": ".py",
   "mimetype": "text/x-python",
   "name": "python",
   "nbconvert_exporter": "python",
   "pygments_lexer": "ipython3",
   "version": "3.12.7"
  }
 },
 "nbformat": 4,
 "nbformat_minor": 5
}
